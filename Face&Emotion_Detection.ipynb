{
  "nbformat": 4,
  "nbformat_minor": 0,
  "metadata": {
    "kernelspec": {
      "display_name": "Python 3",
      "language": "python",
      "name": "python3"
    },
    "language_info": {
      "codemirror_mode": {
        "name": "ipython",
        "version": 3
      },
      "file_extension": ".py",
      "mimetype": "text/x-python",
      "name": "python",
      "nbconvert_exporter": "python",
      "pygments_lexer": "ipython3",
      "version": "3.7.7"
    },
    "colab": {
      "name": "Face&Emotion_Detection.ipynb",
      "provenance": [],
      "collapsed_sections": [
        "pXVJm71uY632"
      ],
      "include_colab_link": true
    },
    "accelerator": "GPU"
  },
  "cells": [
    {
      "cell_type": "markdown",
      "metadata": {
        "id": "view-in-github",
        "colab_type": "text"
      },
      "source": [
        "<a href=\"https://colab.research.google.com/github/Muskan-Pande/Face-Emotion_Detection/blob/main/Face%26Emotion_Detection.ipynb\" target=\"_parent\"><img src=\"https://colab.research.google.com/assets/colab-badge.svg\" alt=\"Open In Colab\"/></a>"
      ]
    },
    {
      "cell_type": "markdown",
      "source": [
        "### Importing libraries\n"
      ],
      "metadata": {
        "id": "2YvVqr53ZjlK"
      }
    },
    {
      "cell_type": "code",
      "metadata": {
        "id": "I5fba1ec2DhC"
      },
      "source": [
        "!pip install -q face_recognition\n",
        "!pip install -q fer\n",
        "\n",
        "#Facial and Expression Recognition\n",
        "import face_recognition\n",
        "from fer import FER\n",
        "\n",
        "#Plotting libraries\n",
        "import matplotlib.pyplot as plt\n",
        "import seaborn as sns\n",
        "from matplotlib.pyplot import imshow\n",
        "import matplotlib.patches as patches\n",
        "%matplotlib inline\n",
        "\n",
        "#Python Imaging Library\n",
        "import PIL.Image\n",
        "\n",
        "#To compute execution times\n",
        "import time"
      ],
      "execution_count": null,
      "outputs": []
    },
    {
      "cell_type": "markdown",
      "source": [
        "### Code-Snippet allowing Google Colab to take a Camera Capture\n",
        "\n"
      ],
      "metadata": {
        "id": "pXVJm71uY632"
      }
    },
    {
      "cell_type": "code",
      "source": [
        "from IPython.display import display, Javascript\n",
        "from google.colab.output import eval_js\n",
        "from base64 import b64decode\n",
        "\n",
        "def take_photo(filename='photo.jpg', quality=0.8):\n",
        "  js = Javascript('''\n",
        "    async function takePhoto(quality) {\n",
        "      const div = document.createElement('div');\n",
        "      const capture = document.createElement('button');\n",
        "      capture.textContent = 'Capture';\n",
        "      div.appendChild(capture);\n",
        "\n",
        "      const video = document.createElement('video');\n",
        "      video.style.display = 'block';\n",
        "      const stream = await navigator.mediaDevices.getUserMedia({video: true});\n",
        "\n",
        "      document.body.appendChild(div);\n",
        "      div.appendChild(video);\n",
        "      video.srcObject = stream;\n",
        "      await video.play();\n",
        "\n",
        "      // Resize the output to fit the video element.\n",
        "      google.colab.output.setIframeHeight(document.documentElement.scrollHeight, true);\n",
        "\n",
        "      // Wait for Capture to be clicked.\n",
        "      await new Promise((resolve) => capture.onclick = resolve);\n",
        "\n",
        "      const canvas = document.createElement('canvas');\n",
        "      canvas.width = video.videoWidth;\n",
        "      canvas.height = video.videoHeight;\n",
        "      canvas.getContext('2d').drawImage(video, 0, 0);\n",
        "      stream.getVideoTracks()[0].stop();\n",
        "      div.remove();\n",
        "      return canvas.toDataURL('image/jpeg', quality);\n",
        "    }\n",
        "    ''')\n",
        "  display(js)\n",
        "  data = eval_js('takePhoto({})'.format(quality))\n",
        "  binary = b64decode(data.split(',')[1])\n",
        "  with open(filename, 'wb') as f:\n",
        "    f.write(binary)\n",
        "  return filename"
      ],
      "metadata": {
        "id": "SdyAD6EqWdyA"
      },
      "execution_count": null,
      "outputs": []
    },
    {
      "cell_type": "markdown",
      "source": [
        "### Take a photo from webcam"
      ],
      "metadata": {
        "id": "zc2ezK4FZWBe"
      }
    },
    {
      "cell_type": "code",
      "source": [
        "from IPython.display import Image\n",
        "\n",
        "try:\n",
        "  photo = take_photo()\n",
        "  print('Saved to {}'.format(photo))\n",
        "\n",
        "  # Show the image which was just taken.\n",
        "  display(Image(photo))\n",
        "except Exception as err:\n",
        "  # Errors will be thrown if the user does not have a webcam or if they do not\n",
        "  # grant the page permission to access it.\n",
        "  print(str(err))"
      ],
      "metadata": {
        "id": "b2JL0gCTWdyC"
      },
      "execution_count": null,
      "outputs": []
    },
    {
      "cell_type": "markdown",
      "source": [
        "### Load and display image"
      ],
      "metadata": {
        "id": "_bGKAWsVefWv"
      }
    },
    {
      "cell_type": "code",
      "metadata": {
        "id": "4DDeKzSd_NB9"
      },
      "source": [
        "image = face_recognition.load_image_file(photo)\n",
        "im = PIL.Image.open(photo)\n",
        "fig=plt.subplots()\n",
        "imshow(im)"
      ],
      "execution_count": null,
      "outputs": []
    },
    {
      "cell_type": "markdown",
      "source": [
        "### Face detection"
      ],
      "metadata": {
        "id": "Hyalccaleoh5"
      }
    },
    {
      "cell_type": "code",
      "metadata": {
        "id": "v0UzJAG7AsBJ"
      },
      "source": [
        "#starting time\n",
        "start = time.time()\n",
        "\n",
        "#retrieve all faces locations on picture\n",
        "face_locations = face_recognition.face_locations(image, model=\"CNN\")\n",
        "\n",
        "fig,ax = plt.subplots()\n",
        "\n",
        "#loop on number of faces in the picture\n",
        "for face_location in face_locations:\n",
        "\n",
        "    #retrieve face locations\n",
        "    top, right, bottom, left = face_location\n",
        "    ax.imshow(im)\n",
        "\n",
        "    #framing the face\n",
        "    rect = patches.Rectangle((left,top), (right-left), (bottom-top), \\\n",
        "                              linewidth=3,edgecolor='r',facecolor='none')\n",
        "    ax.add_patch(rect)\n",
        "\n",
        "#ending time\n",
        "end = time.time()\n",
        "\n",
        "print(\"Nb of faces:\", len(face_locations))\n",
        "print(\"Time taken:\", round(end-start,2), \"s\")"
      ],
      "execution_count": null,
      "outputs": []
    },
    {
      "cell_type": "markdown",
      "source": [
        "### Emotion detection"
      ],
      "metadata": {
        "id": "BUz5HEpKes4W"
      }
    },
    {
      "cell_type": "code",
      "source": [
        "detector = FER(mtcnn=True) #using accurate MTCNN network"
      ],
      "metadata": {
        "id": "WM1ZJD113TM_"
      },
      "execution_count": null,
      "outputs": []
    },
    {
      "cell_type": "code",
      "metadata": {
        "id": "mmBtwM_J2DhY"
      },
      "source": [
        "#starting time\n",
        "start = time.time()\n",
        "\n",
        "#retrieve face locations on picture\n",
        "face_locations = face_recognition.face_locations(image, model=\"CNN\")\n",
        "\n",
        "fig, ax = plt.subplots()\n",
        "\n",
        "#loop on number of faces\n",
        "for face_location in face_locations:\n",
        "\n",
        "    #retrieve face location\n",
        "    top, right, bottom, left = face_location\n",
        "\n",
        "    ax.imshow(im)\n",
        "\n",
        "    #framing the face\n",
        "    rect = patches.Rectangle((left,top), (right-left), (bottom-top), \\\n",
        "                             linewidth=3, edgecolor='r', facecolor='none')\n",
        "    ax.add_patch(rect)\n",
        "    face_image = image[top:bottom, left:right]\n",
        "\n",
        "    #getting emotions using FER library\n",
        "    emotions = detector.detect_emotions(face_image)\n",
        "    emotion, score = detector.top_emotion(face_image)\n",
        "    plt.text(left, top, emotion, fontsize=8, bbox=dict(fill=True, edgecolor='blue', linewidth=1))\n",
        "\n",
        "#ending time\n",
        "end = time.time()\n",
        "plt.show()\n",
        "\n",
        "#creating emotion scores barplot\n",
        "plt.figure()\n",
        "plt.title(\"Emotion scores\")\n",
        "keys = list(emotions[0][\"emotions\"].keys())\n",
        "vals = list(emotions[0][\"emotions\"].values())\n",
        "sns.barplot(x=keys, y=vals)\n",
        "plt.show()\n",
        "\n",
        "\n",
        "print(\"Top emotion:\", emotion)\n",
        "print(\"Score:\", score)\n",
        "print(\"Nb of faces:\",len(face_locations))\n",
        "print(\"Time taken:\", round(end-start, 2) ,\"s\")"
      ],
      "execution_count": null,
      "outputs": []
    }
  ]
}